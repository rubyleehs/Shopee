{
 "metadata": {
  "language_info": {
   "codemirror_mode": {
    "name": "ipython",
    "version": 3
   },
   "file_extension": ".py",
   "mimetype": "text/x-python",
   "name": "python",
   "nbconvert_exporter": "python",
   "pygments_lexer": "ipython3",
   "version": "3.7.3-final"
  },
  "orig_nbformat": 2,
  "kernelspec": {
   "name": "python3",
   "display_name": "Python 3.7.3 64-bit (conda)",
   "metadata": {
    "interpreter": {
     "hash": "0413e994d249ddf450b14f57f0a8657b2ed8116359ff428fcdc20444d2e255e8"
    }
   }
  }
 },
 "nbformat": 4,
 "nbformat_minor": 2,
 "cells": [
  {
   "cell_type": "code",
   "execution_count": null,
   "metadata": {},
   "outputs": [],
   "source": [
    "# modules we'll use\n",
    "import pandas as pd\n",
    "import numpy as np\n",
    "import chardet\n",
    "import datetime\n",
    "import fuzzywuzzy\n",
    "from fuzzywuzzy import process\n",
    "\n",
    "# TODO: read in all your data here by give file path\n",
    "path_to_data = \"./data/Building_Permits.csv\"\n",
    "\n",
    "data_encoding = \"utf-8\"\n",
    "\n",
    "# Try identify file encoding and read data in\n",
    "# with open(path_to_data, 'rb') as rawdata:\n",
    "#    data_encoding = chardet.detect(rawdata.read(100000))[\"encoding\"]\n",
    "input_data = pd.read_csv(path_to_data, encoding=data_encoding)\n",
    "\n",
    "# Ensure all columns is shown when printed\n",
    "pd.options.display.max_columns = None\n",
    "pd.options.display.width=None\n",
    "\n",
    "# set seed for reproducibility\n",
    "np.random.seed(0) "
   ]
  },
  {
   "cell_type": "code",
   "execution_count": null,
   "metadata": {
    "tags": []
   },
   "outputs": [],
   "source": [
    "# Analyse Data - run if necessary\n",
    "print(\"\\nDescribe \" + \"=\" * 150)\n",
    "print(input_data.describe())\n",
    "\n",
    "print(\"\\nHead \" + \"=\" * 150)\n",
    "print(input_data.head())\n",
    "\n",
    "print(\"\\nNumber of NaNs \" + \"=\" * 150)\n",
    "print(input_data.isnull().sum())"
   ]
  },
  {
   "cell_type": "code",
   "execution_count": null,
   "metadata": {},
   "outputs": [],
   "source": [
    "# Process NaN Values\n",
    "nan_processed_data = input_data\n",
    "\n",
    "# nan_processed_data = input_data.dropna() # Drop rows with NaN\n",
    "# nan_processed_data = input_data.dropna(axis=1) # Drop columns with NaN\n",
    "# nan_processed_data = input_data.fillna(0) # Fill NaN with some value\n",
    "# nan_processed_data = input_data.fillna(method='bfill') # Backfill NaN with next valid value\n",
    "\n",
    "# https://pandas.pydata.org/pandas-docs/stable/reference/api/pandas.DataFrame.fillna.html"
   ]
  },
  {
   "cell_type": "code",
   "execution_count": null,
   "metadata": {},
   "outputs": [],
   "source": [
    "# Data Cleaning\n",
    "cleaned_data = nan_processed_data\n",
    "\n",
    "# nan_processed_data['Country'] = nan_processed_data['Country'].str.lower() # convert to lower case\n",
    "# nan_processed_data['Country'] = nan_processed_data['Country'].str.strip() # remove trailing white spaces"
   ]
  },
  {
   "cell_type": "code",
   "execution_count": null,
   "metadata": {},
   "outputs": [],
   "source": [
    "# Data Cleaning - Fuzzy Values helper\n",
    "\n",
    "def replace_matches_in_column(df, column, string_to_match, min_ratio = 47):\n",
    "    strings = df[column].unique()  \n",
    "    # get the top 10 closest matches to our input string\n",
    "    matches = fuzzywuzzy.process.extract(string_to_match, strings, \n",
    "                                         limit=10, scorer=fuzzywuzzy.fuzz.token_sort_ratio)\n",
    "\n",
    "    # only get matches with a ratio > min_ratio\n",
    "    close_matches = [matches[0] for matches in matches if matches[1] >= min_ratio]\n",
    "\n",
    "    rows_with_matches = df[column].isin(close_matches) \n",
    "    df.loc[rows_with_matches, column] = string_to_match  # replace close matches"
   ]
  },
  {
   "cell_type": "code",
   "execution_count": null,
   "metadata": {},
   "outputs": [],
   "source": [
    "# Data Cleaning - Fuzzy Values\n",
    "\n",
    "series_to_check = cleaned_data[\"column_name\"].unique()\n",
    "fuzzy_matches = fuzzywuzzy.process.extract(\"string value to compare to\", series_to_check, limit=10, scorer=fuzzywuzzy.fuzz.token_sort_ratio)\n",
    "print(fuzzy_matches)\n",
    "\n",
    "# Finally replace if needed\n",
    "# replace_matches_in_column(df=cleaned_data, column='column_name', string_to_match=\"string_value\", min_ratio=70)"
   ]
  }
 ]
}